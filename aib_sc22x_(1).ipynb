{
  "nbformat": 4,
  "nbformat_minor": 0,
  "metadata": {
    "colab": {
      "name": "aib-sc22x (1).ipynb",
      "provenance": [],
      "collapsed_sections": [],
      "include_colab_link": true
    },
    "kernelspec": {
      "display_name": "Python 3",
      "language": "python",
      "name": "python3"
    },
    "language_info": {
      "codemirror_mode": {
        "name": "ipython",
        "version": 3
      },
      "file_extension": ".py",
      "mimetype": "text/x-python",
      "name": "python",
      "nbconvert_exporter": "python",
      "pygments_lexer": "ipython3",
      "version": "3.8.8"
    }
  },
  "cells": [
    {
      "cell_type": "markdown",
      "metadata": {
        "id": "view-in-github",
        "colab_type": "text"
      },
      "source": [
        "<a href=\"https://colab.research.google.com/github/JasmineMiyeonHong/JasmineMiyeonHong/blob/main/aib_sc22x_(1).ipynb\" target=\"_parent\"><img src=\"https://colab.research.google.com/assets/colab-badge.svg\" alt=\"Open In Colab\"/></a>"
      ]
    },
    {
      "cell_type": "markdown",
      "metadata": {
        "id": "M3XH_XLsy_Bn"
      },
      "source": [
        "# DS SC22x\n",
        " \n",
        "### 코비 브라이언트의 슛 성공 여부 예측해보기\n",
        "\n",
        "이번 스프린트 챌린지에서는 故 코비 브라이언트 선수의 NBA 필드 골 시도들이 담긴 데이터셋을 다룹니다 (1996년 11월 3일부터 2016년 4월 13일까지의 정규 시즌과 플레이오프 시즌 기록).\n",
        "\n",
        "여러분은 각 슛의 성공 여부를 슈팅의 대한 정보, 게임에 대한 정보를 통해서 예측해야 합니다. 이것은 상당히 어려운 예측입니다. 해당 데이터셋은 [NBA API]((https://github.com/swar/nba_api) 파이썬 라이브러리를 통해 수집 됐습니다. "
      ]
    },
    {
      "cell_type": "code",
      "metadata": {
        "id": "Nw3CL7TE7tNq"
      },
      "source": [
        "# Google Colab으로 수행한다면 이 셀을 먼저 실행해주세요\n",
        "%%capture\n",
        "import sys\n",
        "if 'google.colab' in sys.modules:\n",
        "    # Install packages in Colab\n",
        "    !pip install category_encoders==2.*\n",
        "    !pip install pandas-profiling==2.*"
      ],
      "execution_count": 4,
      "outputs": []
    },
    {
      "cell_type": "code",
      "metadata": {
        "id": "-Nm24pCHy_Bo"
      },
      "source": [
        "# 데이터셋을 불러옵니다\n",
        "import pandas as pd\n",
        "url = 'https://ds-lecture-data.s3.ap-northeast-2.amazonaws.com/nba/nba_kobe_bryant.csv'\n",
        "df = pd.read_csv(url)\n",
        "# 데이터셋이 잘 불러졌는지 확인합니다\n",
        "assert df.shape == (30697, 19)"
      ],
      "execution_count": 5,
      "outputs": []
    },
    {
      "cell_type": "code",
      "metadata": {
        "colab": {
          "base_uri": "https://localhost:8080/",
          "height": 309
        },
        "id": "INoySqfzgrea",
        "outputId": "b535638a-d111-45b0-fbb0-d94c6409105e"
      },
      "source": [
        "df.head()"
      ],
      "execution_count": 6,
      "outputs": [
        {
          "output_type": "execute_result",
          "data": {
            "text/html": [
              "<div>\n",
              "<style scoped>\n",
              "    .dataframe tbody tr th:only-of-type {\n",
              "        vertical-align: middle;\n",
              "    }\n",
              "\n",
              "    .dataframe tbody tr th {\n",
              "        vertical-align: top;\n",
              "    }\n",
              "\n",
              "    .dataframe thead th {\n",
              "        text-align: right;\n",
              "    }\n",
              "</style>\n",
              "<table border=\"1\" class=\"dataframe\">\n",
              "  <thead>\n",
              "    <tr style=\"text-align: right;\">\n",
              "      <th></th>\n",
              "      <th>game_id</th>\n",
              "      <th>game_event_id</th>\n",
              "      <th>player_name</th>\n",
              "      <th>period</th>\n",
              "      <th>minutes_remaining</th>\n",
              "      <th>seconds_remaining</th>\n",
              "      <th>action_type</th>\n",
              "      <th>shot_type</th>\n",
              "      <th>shot_zone_basic</th>\n",
              "      <th>shot_zone_area</th>\n",
              "      <th>shot_zone_range</th>\n",
              "      <th>shot_distance</th>\n",
              "      <th>loc_x</th>\n",
              "      <th>loc_y</th>\n",
              "      <th>shot_made_flag</th>\n",
              "      <th>game_date</th>\n",
              "      <th>htm</th>\n",
              "      <th>vtm</th>\n",
              "      <th>season_type</th>\n",
              "    </tr>\n",
              "  </thead>\n",
              "  <tbody>\n",
              "    <tr>\n",
              "      <th>0</th>\n",
              "      <td>29600027</td>\n",
              "      <td>102</td>\n",
              "      <td>Kobe Bryant</td>\n",
              "      <td>1</td>\n",
              "      <td>0</td>\n",
              "      <td>42</td>\n",
              "      <td>Jump Shot</td>\n",
              "      <td>2PT Field Goal</td>\n",
              "      <td>Mid-Range</td>\n",
              "      <td>Left Side Center(LC)</td>\n",
              "      <td>16-24 ft.</td>\n",
              "      <td>18</td>\n",
              "      <td>-140</td>\n",
              "      <td>116</td>\n",
              "      <td>0</td>\n",
              "      <td>1996-11-03</td>\n",
              "      <td>LAL</td>\n",
              "      <td>MIN</td>\n",
              "      <td>Regular Season</td>\n",
              "    </tr>\n",
              "    <tr>\n",
              "      <th>1</th>\n",
              "      <td>29600031</td>\n",
              "      <td>127</td>\n",
              "      <td>Kobe Bryant</td>\n",
              "      <td>2</td>\n",
              "      <td>10</td>\n",
              "      <td>8</td>\n",
              "      <td>Jump Shot</td>\n",
              "      <td>2PT Field Goal</td>\n",
              "      <td>Mid-Range</td>\n",
              "      <td>Left Side Center(LC)</td>\n",
              "      <td>16-24 ft.</td>\n",
              "      <td>16</td>\n",
              "      <td>-131</td>\n",
              "      <td>97</td>\n",
              "      <td>0</td>\n",
              "      <td>1996-11-05</td>\n",
              "      <td>NYK</td>\n",
              "      <td>LAL</td>\n",
              "      <td>Regular Season</td>\n",
              "    </tr>\n",
              "    <tr>\n",
              "      <th>2</th>\n",
              "      <td>29600044</td>\n",
              "      <td>124</td>\n",
              "      <td>Kobe Bryant</td>\n",
              "      <td>2</td>\n",
              "      <td>8</td>\n",
              "      <td>37</td>\n",
              "      <td>Jump Shot</td>\n",
              "      <td>3PT Field Goal</td>\n",
              "      <td>Mid-Range</td>\n",
              "      <td>Left Side Center(LC)</td>\n",
              "      <td>16-24 ft.</td>\n",
              "      <td>23</td>\n",
              "      <td>-142</td>\n",
              "      <td>181</td>\n",
              "      <td>1</td>\n",
              "      <td>1996-11-06</td>\n",
              "      <td>CHH</td>\n",
              "      <td>LAL</td>\n",
              "      <td>Regular Season</td>\n",
              "    </tr>\n",
              "    <tr>\n",
              "      <th>3</th>\n",
              "      <td>29600044</td>\n",
              "      <td>144</td>\n",
              "      <td>Kobe Bryant</td>\n",
              "      <td>2</td>\n",
              "      <td>6</td>\n",
              "      <td>34</td>\n",
              "      <td>Jump Shot</td>\n",
              "      <td>3PT Field Goal</td>\n",
              "      <td>Restricted Area</td>\n",
              "      <td>Center(C)</td>\n",
              "      <td>Less Than 8 ft.</td>\n",
              "      <td>0</td>\n",
              "      <td>0</td>\n",
              "      <td>0</td>\n",
              "      <td>0</td>\n",
              "      <td>1996-11-06</td>\n",
              "      <td>CHH</td>\n",
              "      <td>LAL</td>\n",
              "      <td>Regular Season</td>\n",
              "    </tr>\n",
              "    <tr>\n",
              "      <th>4</th>\n",
              "      <td>29600044</td>\n",
              "      <td>151</td>\n",
              "      <td>Kobe Bryant</td>\n",
              "      <td>2</td>\n",
              "      <td>5</td>\n",
              "      <td>27</td>\n",
              "      <td>Jump Shot</td>\n",
              "      <td>2PT Field Goal</td>\n",
              "      <td>In The Paint (Non-RA)</td>\n",
              "      <td>Center(C)</td>\n",
              "      <td>8-16 ft.</td>\n",
              "      <td>13</td>\n",
              "      <td>-10</td>\n",
              "      <td>138</td>\n",
              "      <td>1</td>\n",
              "      <td>1996-11-06</td>\n",
              "      <td>CHH</td>\n",
              "      <td>LAL</td>\n",
              "      <td>Regular Season</td>\n",
              "    </tr>\n",
              "  </tbody>\n",
              "</table>\n",
              "</div>"
            ],
            "text/plain": [
              "    game_id  game_event_id  player_name  ...  htm  vtm     season_type\n",
              "0  29600027            102  Kobe Bryant  ...  LAL  MIN  Regular Season\n",
              "1  29600031            127  Kobe Bryant  ...  NYK  LAL  Regular Season\n",
              "2  29600044            124  Kobe Bryant  ...  CHH  LAL  Regular Season\n",
              "3  29600044            144  Kobe Bryant  ...  CHH  LAL  Regular Season\n",
              "4  29600044            151  Kobe Bryant  ...  CHH  LAL  Regular Season\n",
              "\n",
              "[5 rows x 19 columns]"
            ]
          },
          "metadata": {},
          "execution_count": 6
        }
      ]
    },
    {
      "cell_type": "code",
      "metadata": {
        "colab": {
          "base_uri": "https://localhost:8080/"
        },
        "id": "HjupZoGmg9gx",
        "outputId": "e7598c66-d15a-4e40-8c0b-9ad255ffe85c"
      },
      "source": [
        "# 살펴보기\n",
        "df.isnull().sum()"
      ],
      "execution_count": 7,
      "outputs": [
        {
          "output_type": "execute_result",
          "data": {
            "text/plain": [
              "game_id              0\n",
              "game_event_id        0\n",
              "player_name          0\n",
              "period               0\n",
              "minutes_remaining    0\n",
              "seconds_remaining    0\n",
              "action_type          0\n",
              "shot_type            0\n",
              "shot_zone_basic      0\n",
              "shot_zone_area       0\n",
              "shot_zone_range      0\n",
              "shot_distance        0\n",
              "loc_x                0\n",
              "loc_y                0\n",
              "shot_made_flag       0\n",
              "game_date            0\n",
              "htm                  0\n",
              "vtm                  0\n",
              "season_type          0\n",
              "dtype: int64"
            ]
          },
          "metadata": {},
          "execution_count": 7
        }
      ]
    },
    {
      "cell_type": "markdown",
      "metadata": {
        "id": "1_a48kC_Zv-T"
      },
      "source": [
        "# Part 1 - Data Preprocessing"
      ]
    },
    {
      "cell_type": "markdown",
      "metadata": {
        "id": "t6Jt3qjQ-zig"
      },
      "source": [
        "## 1.1 분류를 위한 베이스라인 정확도를 계산하세요\n",
        ">예측 해야하는 target은 `shot_made_flag` 입니다. 전체 데이터를 써서 baseline **accuracy score**를 계산하세요."
      ]
    },
    {
      "cell_type": "code",
      "metadata": {
        "id": "I0BDeNFG_Kee",
        "colab": {
          "base_uri": "https://localhost:8080/"
        },
        "outputId": "79c2ec12-65ab-4089-9dda-75e7c75f26ff"
      },
      "source": [
        "target = 'shot_made_flag'\n",
        "y=df[target]\n",
        "# 기준 모델 확인\n",
        "y.value_counts(normalize=True)"
      ],
      "execution_count": 8,
      "outputs": [
        {
          "output_type": "execute_result",
          "data": {
            "text/plain": [
              "0    0.552692\n",
              "1    0.447308\n",
              "Name: shot_made_flag, dtype: float64"
            ]
          },
          "metadata": {},
          "execution_count": 8
        }
      ]
    },
    {
      "cell_type": "markdown",
      "metadata": {
        "id": "Dz2QHBiVy_Br"
      },
      "source": [
        "## 1.2 모델의 예측 정확도를 시험하기 위한 test set을 만드세요.\n",
        "\n",
        "> 예측 모델 시험을 위해 2014-15 ~ 2015-16 시즌을 test set으로 만듭니다. NBA 시즌은 10월에 시작해서 6월에 종료합니다. 테스트셋에 **1826개**의 데이터가 있다면 알맞게 분할한 것입니다."
      ]
    },
    {
      "cell_type": "code",
      "metadata": {
        "id": "OPod6lBG_wTT"
      },
      "source": [
        "# 이 곳에 답안을 작성하십시오"
      ],
      "execution_count": null,
      "outputs": []
    },
    {
      "cell_type": "markdown",
      "metadata": {
        "id": "P9Nihzk6y_CF"
      },
      "source": [
        "## 1.3 새로운 feature를 만드세요\n",
        "\n",
        "> 최소 1개 이상의 새로운 feature를 만드세요. 아래의 리스트를 사용하셔도 되고 스스로의 아이디어로 만들어 주셔도 괜찮습니다.\n",
        ">- **Homecourt Advantage**: 홈 팀(`htm`)이 Los Angeles Lakers (`LAL`)인지 여부\n",
        ">- **Opponent**: LA Lakers를 상대하는 팀을 나타내는 feature\n",
        ">- **Seconds remaining in the period**: 피리어드에 남은 총 시간 (분과 초를 합칩니다)\n",
        ">- **Seconds remaining in the game**: 게임에 남은 총 시간 (피리어드와 초를 합칩니다). 농구에서 게임은 총 4개의 피리어드로 이루어져 있습니다 (각 12분)\n",
        ">- **Made previous shot**: 코비 브라이언트의 예전 슛이 성공했는지 여부\n",
        "    "
      ]
    },
    {
      "cell_type": "code",
      "metadata": {
        "id": "A0pxdFtWy_Bz"
      },
      "source": [
        "# 이 곳에 답안을 작성하십시오"
      ],
      "execution_count": null,
      "outputs": []
    },
    {
      "cell_type": "markdown",
      "metadata": {
        "id": "eLs7pt7NFJLF"
      },
      "source": [
        "## 1.4 모델을 어떻게 검증할지 결정한 후에 데이터셋을 분할하세요. \n",
        "\n",
        ">아래의 검증 방법 중 하나를 선택한 후 목적에 맞게 데이터를 분할 하세요. 어떤 방법을 선택하는지 여부로 채점되지 않습니다 (두 방법 모두 좋은 방법입니다).\n",
        ">\n",
        ">- **Train/validate/test split을 통한 검증 (Hold-out Validation): 무작위로 80/20% 비율로 나누기**\n",
        ">- **독립적인 test set으로 Cross-validation을 통한 검증**. scikit-learn에 있는 모든 cross-validation 방법을 활용하셔도 됩니다."
      ]
    },
    {
      "cell_type": "code",
      "metadata": {
        "id": "LJ58CceDISXR"
      },
      "source": [
        "# 이 곳에 답안을 작성하십시오"
      ],
      "execution_count": null,
      "outputs": []
    },
    {
      "cell_type": "markdown",
      "metadata": {
        "id": "yqE5-h9QZv-Y"
      },
      "source": [
        "# Part 2 - Modeling & Evaluation"
      ]
    },
    {
      "cell_type": "markdown",
      "metadata": {
        "id": "oQ2lWlu7JPRt"
      },
      "source": [
        "## 2.1 범주형 feature를 인코딩하고 DecisionTree 혹은 RandomForest를 이용한 학습까지 완료하는 파이프라인을 구축하세요\n",
        ">Scikit-learn의 `pipeline`을 활용합니다."
      ]
    },
    {
      "cell_type": "code",
      "metadata": {
        "id": "X2S8mUuJy_CB"
      },
      "source": [
        "# 이 곳에 답안을 작성하십시오"
      ],
      "execution_count": null,
      "outputs": []
    },
    {
      "cell_type": "markdown",
      "metadata": {
        "id": "8kJXxFpty_CH"
      },
      "source": [
        "## 2.2 검증셋을 사용해서 모델의 예측 정확도(accuracy score)를 계산하세요.\n",
        ">1.4에서 Cross-validation으로 진행한 경우는 그냥 cv score를 작성하세요."
      ]
    },
    {
      "cell_type": "code",
      "metadata": {
        "id": "7560JKvxy_CJ"
      },
      "source": [
        "# 이 곳에 답안을 작성하십시오"
      ],
      "execution_count": null,
      "outputs": []
    },
    {
      "cell_type": "markdown",
      "metadata": {
        "id": "YvyYY9tfy_CL"
      },
      "source": [
        "## 2.3 테스트셋을 사용해서 모델의 예측 정확도(accuracy score)를 계산하세요"
      ]
    },
    {
      "cell_type": "code",
      "metadata": {
        "id": "wjV2dfl6y_CL"
      },
      "source": [
        "# 이 곳에 답안을 작성하십시오"
      ],
      "execution_count": null,
      "outputs": []
    },
    {
      "cell_type": "markdown",
      "metadata": {
        "id": "xGL5stLvJCn1"
      },
      "source": [
        "# Part 3 - Confusion Matrix\n",
        "### 다음 confusion matrix를 사용해서 accuracy, precision, recall을 계산하세요. 아래의 테이블이 이진분류 모델의 confusion matrix라고 생각하고 계산하세요.\n",
        "\n",
        "<table>\n",
        "  <tr>\n",
        "    <td colspan=\"2\" rowspan=\"2\"></td>\n",
        "    <td colspan=\"2\" align='center'><b>Predicted</b></td>\n",
        "  </tr>\n",
        "  <tr>\n",
        "    <td>Negative</td>\n",
        "    <td>Positive</td>\n",
        "  </tr>\n",
        "  <tr>\n",
        "      <td rowspan=\"2\"><b>Actual</b></td>\n",
        "    <td>Negative</td>\n",
        "    <td style=\"border: solid\" align='center'>85</td>\n",
        "    <td style=\"border: solid\" align='center'>58</td>\n",
        "  </tr>\n",
        "  <tr>\n",
        "    <td>Positive</td>\n",
        "    <td style=\"border: solid\" align='center'>8</td>\n",
        "    <td style=\"border: solid\" align='center'> 36</td>\n",
        "  </tr>\n",
        "</table>"
      ]
    },
    {
      "cell_type": "markdown",
      "metadata": {
        "id": "nEvt7NkUJNao"
      },
      "source": [
        "### a) Accuracy score를 계산하세요"
      ]
    },
    {
      "cell_type": "code",
      "metadata": {
        "id": "FFszS2A5JJmv"
      },
      "source": [
        "# 이 곳에 답안을 작성하십시오"
      ],
      "execution_count": null,
      "outputs": []
    },
    {
      "cell_type": "markdown",
      "metadata": {
        "id": "XjHTmk8sJO4v"
      },
      "source": [
        "### b) Precision score를 계산하세요 "
      ]
    },
    {
      "cell_type": "code",
      "metadata": {
        "id": "7qX1gbcMJQS_"
      },
      "source": [
        "# 이 곳에 답안을 작성하십시오"
      ],
      "execution_count": null,
      "outputs": []
    },
    {
      "cell_type": "markdown",
      "metadata": {
        "id": "pFug3ZKaJQ7A"
      },
      "source": [
        "### c) Recall score를 계산하세요"
      ]
    },
    {
      "cell_type": "code",
      "metadata": {
        "id": "Y-wzH6_0Zv-c"
      },
      "source": [
        "# 이 곳에 답안을 작성하십시오"
      ],
      "execution_count": null,
      "outputs": []
    },
    {
      "cell_type": "code",
      "metadata": {
        "id": "L0OKc3JxJR4r"
      },
      "source": [
        "# Advanced Goals\n",
        ">**3점**을 획득하기 위해선 아래의 **\"모든 조건\"**을 만족해야합니다. \n",
        "- **4개** 이상의 새로운 feature들을 만드세요. 1.3에 있는 feature들을 포함해서 만드셔도 괜찮습니다.\n",
        "- `feature들`과 `target`의 관계를 보여주는 시각화를 **2개** 이상 해주세요.\n",
        "- 최소 3개의 하이퍼 파라미터를 사용해서 가능한 조합이 10개 이상이 되도록해서 최적화 하세요.`RandomizedSearchCV`나 `GridSearchCV`를 사용하거나 임의로 조합을 만들어도 상관 없습니다.\n",
        "- `feature importance`를 계산하고 시각화 해주세요."
      ],
      "execution_count": null,
      "outputs": []
    },
    {
      "cell_type": "code",
      "metadata": {
        "id": "JnsNw3awZv-c"
      },
      "source": [
        "# 이 곳에 답안을 작성하십시오"
      ],
      "execution_count": null,
      "outputs": []
    }
  ]
}